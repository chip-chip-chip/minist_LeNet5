{
 "cells": [
  {
   "cell_type": "code",
   "execution_count": 2,
   "metadata": {},
   "outputs": [
    {
     "name": "stdout",
     "output_type": "stream",
     "text": [
      "WARNING:tensorflow:From <ipython-input-2-9871bb527e3a>:7: read_data_sets (from tensorflow.contrib.learn.python.learn.datasets.mnist) is deprecated and will be removed in a future version.\n",
      "Instructions for updating:\n",
      "Please use alternatives such as official/mnist/dataset.py from tensorflow/models.\n",
      "WARNING:tensorflow:From E:\\Anaconda3\\lib\\site-packages\\tensorflow\\contrib\\learn\\python\\learn\\datasets\\mnist.py:260: maybe_download (from tensorflow.contrib.learn.python.learn.datasets.base) is deprecated and will be removed in a future version.\n",
      "Instructions for updating:\n",
      "Please write your own downloading logic.\n",
      "WARNING:tensorflow:From E:\\Anaconda3\\lib\\site-packages\\tensorflow\\contrib\\learn\\python\\learn\\datasets\\mnist.py:262: extract_images (from tensorflow.contrib.learn.python.learn.datasets.mnist) is deprecated and will be removed in a future version.\n",
      "Instructions for updating:\n",
      "Please use tf.data to implement this functionality.\n",
      "Extracting MNIST_data\\train-images-idx3-ubyte.gz\n",
      "WARNING:tensorflow:From E:\\Anaconda3\\lib\\site-packages\\tensorflow\\contrib\\learn\\python\\learn\\datasets\\mnist.py:267: extract_labels (from tensorflow.contrib.learn.python.learn.datasets.mnist) is deprecated and will be removed in a future version.\n",
      "Instructions for updating:\n",
      "Please use tf.data to implement this functionality.\n",
      "Extracting MNIST_data\\train-labels-idx1-ubyte.gz\n",
      "WARNING:tensorflow:From E:\\Anaconda3\\lib\\site-packages\\tensorflow\\contrib\\learn\\python\\learn\\datasets\\mnist.py:110: dense_to_one_hot (from tensorflow.contrib.learn.python.learn.datasets.mnist) is deprecated and will be removed in a future version.\n",
      "Instructions for updating:\n",
      "Please use tf.one_hot on tensors.\n",
      "Extracting MNIST_data\\t10k-images-idx3-ubyte.gz\n",
      "Extracting MNIST_data\\t10k-labels-idx1-ubyte.gz\n",
      "WARNING:tensorflow:From E:\\Anaconda3\\lib\\site-packages\\tensorflow\\contrib\\learn\\python\\learn\\datasets\\mnist.py:290: DataSet.__init__ (from tensorflow.contrib.learn.python.learn.datasets.mnist) is deprecated and will be removed in a future version.\n",
      "Instructions for updating:\n",
      "Please use alternatives such as official/mnist/dataset.py from tensorflow/models.\n"
     ]
    }
   ],
   "source": [
    "import numpy as np\n",
    "import tensorflow as tf\n",
    "import matplotlib.pyplot as plot\n",
    "from tensorflow.examples.tutorials.mnist import input_data \n",
    "\n",
    "#从网上下载数据\n",
    "mnist_data = input_data.read_data_sets(\"MNIST_data\",one_hot = True)"
   ]
  },
  {
   "cell_type": "code",
   "execution_count": 3,
   "metadata": {},
   "outputs": [
    {
     "name": "stdout",
     "output_type": "stream",
     "text": [
      "(55000, 784)\n"
     ]
    }
   ],
   "source": [
    "print (mnist_data.train.images.shape)"
   ]
  },
  {
   "cell_type": "code",
   "execution_count": 4,
   "metadata": {},
   "outputs": [],
   "source": [
    "#程序会自动对数据集进行解压缩,\n",
    "#2 对数据设置每个批次的大小\n",
    "batch_size = 100\n",
    "n_batch = int(mnist_data.train.num_examples/batch_size)\n",
    "\n",
    "# 3 定义两个placeholder，用来承载数据，因为每个图片，都是一个784维的数据，所以我们的x是784列；\n",
    "#   因为要把图片识别为0-9的10个数字，也就是有10个标签，所以y是10列\n",
    "x = tf.placeholder(tf.float32,[None,784])\n",
    "y = tf.placeholder(tf.float32,[None,10])\n",
    "\n",
    "epoch = 0 \n",
    "\n",
    "\n",
    "def weight_variable(shape):\n",
    "    # 使用正态分布随机生成初始权重 标准方差为0.1\n",
    "    initial = tf.truncated_normal(shape, stddev=0.1)\n",
    "    return tf.Variable(initial)\n",
    "\n",
    "def bias_variable(shape):\n",
    "    # 初始偏移量设为非零，避免死神经元\n",
    "    initial = tf.constant(0.1, shape=shape)\n",
    "    return tf.Variable(initial)\n",
    "\n",
    "    \n",
    "def conv2d(x, W):\n",
    "    # 卷积不改变输入的shape\n",
    "    return tf.nn.conv2d(x, W, strides=[1, 1, 1, 1], padding='VALID')\n",
    "\n",
    "def max_pool_2x2(x):\n",
    "    return tf.nn.max_pool(x, ksize=[1, 2, 2, 1],\n",
    "                              strides=[1, 2, 2, 1], padding='SAME')"
   ]
  },
  {
   "cell_type": "code",
   "execution_count": 5,
   "metadata": {},
   "outputs": [],
   "source": [
    "# 把输入变换成一个4d的张量，第二三个对应的是图片的长和宽，第四个参数对应的颜色\n",
    "x_image = tf.reshape(x, [-1, 28, 28, 1])"
   ]
  },
  {
   "cell_type": "code",
   "execution_count": 6,
   "metadata": {},
   "outputs": [
    {
     "name": "stdout",
     "output_type": "stream",
     "text": [
      "WARNING:tensorflow:From E:\\Anaconda3\\lib\\site-packages\\tensorflow\\python\\framework\\op_def_library.py:263: colocate_with (from tensorflow.python.framework.ops) is deprecated and will be removed in a future version.\n",
      "Instructions for updating:\n",
      "Colocations handled automatically by placer.\n"
     ]
    }
   ],
   "source": [
    "#第1层：卷积层，滤波器的尺寸为5×5，深度为6,不使用全0补充，步长为1。\n",
    " \n",
    "W_conv1 = weight_variable([5,5, 1, 6])\n",
    "# 偏差的shape应该和输出的shape一致，所以也是6\n",
    "b_conv1 = bias_variable([6])\n",
    "# 对数据做卷积操作\n",
    "#尺寸变化：32×32×1->28×28×6\n",
    "h_conv1 = tf.nn.relu(conv2d(x_image, W_conv1) + b_conv1)\n",
    "\n",
    "# 第2层，池化层\n",
    "#池化层的尺寸为2×2，使用全0补充，步长为2。\n",
    "    #尺寸变化：28×28×6->14×14×6\n",
    "h_pool1 = max_pool_2x2(h_conv1)\n",
    "\n",
    "#第3层：卷积层\n",
    "#滤波器的尺寸为5×5，深度为16,不使用全0补充，步长为1。\n",
    "#尺寸变化：14×14×6->10×10×16\n",
    "W_conv2 = weight_variable([5, 5, 6, 16])\n",
    "b_conv2 = bias_variable([16])\n",
    "h_conv2 = tf.nn.relu(conv2d(h_pool1, W_conv2) + b_conv2)\n",
    "\n",
    "# 第4层：池化层\n",
    "#尺寸变化：10×10×6->5×5×16\n",
    "h_pool2 = max_pool_2x2(h_conv2)\n",
    "\n",
    "# 第5层，全连接层。\n",
    "#本层的输入矩阵大小为5×5×16，在LeNet-5模型的论文中将这一层称为卷积层，\n",
    "#但是因为过滤器的大小就是5×5，所以和全连接层没有区别，这里直接看成全连接层\n",
    "# 把数据拉平变成5×5×16=400的向量\n",
    "pool_shape = h_pool2.get_shape().as_list()\n",
    "nodes = pool_shape[1]*pool_shape[2]*pool_shape[3]\n",
    "reshaped = tf.reshape(h_pool2,[-1,nodes])\n",
    "\n",
    "W_fc1 = weight_variable([nodes, 120])\n",
    "b_fc1 = bias_variable([120])\n",
    "h_fc1 = tf.nn.relu(tf.matmul(reshaped, W_fc1) + b_fc1)\n",
    "\n",
    "# 第6层，全连接层\n",
    "# 120->84的全连接\n",
    "W_fc2 = weight_variable([120, 84])\n",
    "b_fc2 = bias_variable([84])\n",
    "y_fc2 = tf.matmul(h_fc1, W_fc2) + b_fc2\n",
    "\n",
    "#第7层：全连接层，84->10的全连接\n",
    "#得到最终结果\n",
    "W_fc3 = weight_variable([84, 10])\n",
    "b_fc3 = bias_variable([10])\n",
    "y_p = tf.matmul(y_fc2, W_fc3) + b_fc3"
   ]
  },
  {
   "cell_type": "code",
   "execution_count": 8,
   "metadata": {},
   "outputs": [],
   "source": [
    "# 创建损失函数,以交叉熵的平均值为衡量\n",
    "loss = tf.reduce_mean(tf.nn.softmax_cross_entropy_with_logits(labels = y, logits =y_p ))\n",
    "\n",
    "# 用梯度下降法优化参数\n",
    "\n",
    "train_step_1 = tf.train.AdamOptimizer(learning_rate=0.001).minimize(loss)\n",
    "\n",
    "\n",
    "# 计算准确度\n",
    "correct_prediction = tf.equal(tf.argmax(y,1),tf.argmax(y_p,1))\n",
    "accuracy = tf.reduce_mean(tf.cast(correct_prediction,tf.float32))\n",
    "\n",
    "\n",
    "global_step = tf.Variable(0,name = 'global_step', trainable = False)\n",
    "\n",
    "saver = tf.train.Saver()\n",
    "\n",
    "# 初始化变量\n",
    "init = tf.global_variables_initializer()"
   ]
  },
  {
   "cell_type": "code",
   "execution_count": 9,
   "metadata": {},
   "outputs": [
    {
     "name": "stdout",
     "output_type": "stream",
     "text": [
      "第2轮，准确度为：0.9709\n",
      "第3轮，准确度为：0.9777\n",
      "第4轮，准确度为：0.9826\n",
      "第5轮，准确度为：0.9832\n",
      "第6轮，准确度为：0.9863\n",
      "第7轮，准确度为：0.9876\n",
      "WARNING:tensorflow:From E:\\Anaconda3\\lib\\site-packages\\tensorflow\\python\\training\\saver.py:966: remove_checkpoint (from tensorflow.python.training.checkpoint_management) is deprecated and will be removed in a future version.\n",
      "Instructions for updating:\n",
      "Use standard file APIs to delete files with this prefix.\n",
      "第8轮，准确度为：0.9878\n",
      "第9轮，准确度为：0.989\n",
      "第10轮，准确度为：0.9894\n",
      "第11轮，准确度为：0.9893\n",
      "第12轮，准确度为：0.9845\n",
      "第13轮，准确度为：0.9902\n",
      "第14轮，准确度为：0.9887\n",
      "第15轮，准确度为：0.9873\n",
      "第16轮，准确度为：0.9883\n",
      "第17轮，准确度为：0.9891\n",
      "第18轮，准确度为：0.9864\n",
      "第19轮，准确度为：0.9879\n",
      "第20轮，准确度为：0.9892\n"
     ]
    }
   ],
   "source": [
    "with tf.Session() as sess:\n",
    "    sess.run(init)\n",
    "#     saver.restore(sess,\"model.ckpt-7\")\n",
    "    for epoch in range(1,20):\n",
    "        for batch in range(n_batch):\n",
    "            \n",
    "            batch_x,batch_y = mnist_data.train.next_batch(batch_size)\n",
    "            sess.run(train_step_1,feed_dict = {x:batch_x,y:batch_y})\n",
    "        \n",
    "        accuracy_n = sess.run(accuracy,feed_dict={ x: mnist_data.test.images, y: mnist_data.test.labels})\n",
    "        \n",
    "        print (\"第\" + str(epoch+1)+\"轮，准确度为：\"+str(accuracy_n))\n",
    "        \n",
    "        global_step.assign(epoch).eval()\n",
    "        \n",
    "        saver.save(sess,\"model-LeNet5.ckpt\",global_step = global_step)"
   ]
  }
 ],
 "metadata": {
  "kernelspec": {
   "display_name": "Python 3",
   "language": "python",
   "name": "python3"
  },
  "language_info": {
   "codemirror_mode": {
    "name": "ipython",
    "version": 3
   },
   "file_extension": ".py",
   "mimetype": "text/x-python",
   "name": "python",
   "nbconvert_exporter": "python",
   "pygments_lexer": "ipython3",
   "version": "3.7.0"
  }
 },
 "nbformat": 4,
 "nbformat_minor": 2
}
